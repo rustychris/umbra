{
 "cells": [
  {
   "cell_type": "code",
   "execution_count": 1,
   "metadata": {},
   "outputs": [],
   "source": [
    "from sympy import *"
   ]
  },
  {
   "cell_type": "code",
   "execution_count": 4,
   "metadata": {},
   "outputs": [],
   "source": [
    "u,v,x,y,phi,psi=symbols(r'u v x y \\phi \\psi')"
   ]
  },
  {
   "cell_type": "code",
   "execution_count": 11,
   "metadata": {},
   "outputs": [
    {
     "data": {
      "text/latex": [
       "$\\displaystyle \\frac{d}{d x} u + \\frac{d}{d y} v = 0$"
      ],
      "text/plain": [
       "Eq(Derivative(u, x) + Derivative(v, y), 0)"
      ]
     },
     "execution_count": 11,
     "metadata": {},
     "output_type": "execute_result"
    }
   ],
   "source": [
    "incompress=Eq(Derivative(u,x) + Derivative(v,y),0) \n",
    "incompress"
   ]
  },
  {
   "cell_type": "code",
   "execution_count": 12,
   "metadata": {},
   "outputs": [
    {
     "data": {
      "text/latex": [
       "$\\displaystyle \\frac{d}{d y} u - \\frac{d}{d x} v = 0$"
      ],
      "text/plain": [
       "Eq(Derivative(u, y) - Derivative(v, x), 0)"
      ]
     },
     "execution_count": 12,
     "metadata": {},
     "output_type": "execute_result"
    }
   ],
   "source": [
    "irrot=Eq(Derivative(u,y)-Derivative(v,x),0)\n",
    "irrot"
   ]
  },
  {
   "cell_type": "code",
   "execution_count": null,
   "metadata": {},
   "outputs": [],
   "source": [
    "Eq(u,)"
   ]
  },
  {
   "cell_type": "markdown",
   "metadata": {},
   "source": [
    "We assume an irrotational and incompressible 2D velocity field. Under those assumptions,\n",
    "the flow can be described by a streamfunction $\\psi$ or a velocity potential $\\phi$,\n",
    "both of which internally satisfy a Laplace equations, \n",
    "$$\\nabla^2 \\psi = 0$$\n",
    "or\n",
    "$$\\nabla^2 \\phi = 0$$\n",
    "\n",
    "Of course the boundary conditions must allow for irrotationality and incompressibility\n",
    "at the macro scale."
   ]
  },
  {
   "cell_type": "code",
   "execution_count": null,
   "metadata": {},
   "outputs": [],
   "source": []
  }
 ],
 "metadata": {
  "kernelspec": {
   "display_name": "Python 3",
   "language": "python",
   "name": "python3"
  },
  "language_info": {
   "codemirror_mode": {
    "name": "ipython",
    "version": 3
   },
   "file_extension": ".py",
   "mimetype": "text/x-python",
   "name": "python",
   "nbconvert_exporter": "python",
   "pygments_lexer": "ipython3",
   "version": "3.7.3"
  }
 },
 "nbformat": 4,
 "nbformat_minor": 2
}
